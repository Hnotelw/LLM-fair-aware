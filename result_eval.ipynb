{
 "cells": [
  {
   "cell_type": "code",
   "execution_count": 1,
   "id": "ecb53ffd",
   "metadata": {},
   "outputs": [],
   "source": [
    "import pandas as pd\n",
    "import numpy as np\n",
    "from scipy.stats import kendalltau"
   ]
  },
  {
   "cell_type": "code",
   "execution_count": 2,
   "id": "7719c3a3",
   "metadata": {},
   "outputs": [],
   "source": [
    "test_te=pd.read_csv(\"test_te.csv\")\n",
    "test_tr=pd.read_csv(\"test_tr.csv\")"
   ]
  },
  {
   "cell_type": "code",
   "execution_count": 4,
   "id": "25adff3c",
   "metadata": {},
   "outputs": [],
   "source": [
    "rec_index=pd.read_csv(\"rec_indexes.csv\")\n",
    "target=pd.read_csv(\"targets.csv\")\n",
    "rec_index =rec_index.drop(columns=[\"Unnamed: 0\"])\n",
    "target =target.drop(columns=[\"Unnamed: 0\"])"
   ]
  },
  {
   "cell_type": "markdown",
   "id": "4d954713",
   "metadata": {},
   "source": [
    "## user_id对齐"
   ]
  },
  {
   "cell_type": "code",
   "execution_count": 4,
   "id": "0e14c217",
   "metadata": {},
   "outputs": [],
   "source": [
    "unique_user_id = test_te[\"user_id\"].unique()"
   ]
  },
  {
   "cell_type": "code",
   "execution_count": 5,
   "id": "769233c4",
   "metadata": {},
   "outputs": [
    {
     "data": {
      "text/html": [
       "<div>\n",
       "<style scoped>\n",
       "    .dataframe tbody tr th:only-of-type {\n",
       "        vertical-align: middle;\n",
       "    }\n",
       "\n",
       "    .dataframe tbody tr th {\n",
       "        vertical-align: top;\n",
       "    }\n",
       "\n",
       "    .dataframe thead th {\n",
       "        text-align: right;\n",
       "    }\n",
       "</style>\n",
       "<table border=\"1\" class=\"dataframe\">\n",
       "  <thead>\n",
       "    <tr style=\"text-align: right;\">\n",
       "      <th></th>\n",
       "      <th>user_id</th>\n",
       "    </tr>\n",
       "  </thead>\n",
       "  <tbody>\n",
       "    <tr>\n",
       "      <th>0</th>\n",
       "      <td>2531</td>\n",
       "    </tr>\n",
       "    <tr>\n",
       "      <th>1</th>\n",
       "      <td>2704</td>\n",
       "    </tr>\n",
       "    <tr>\n",
       "      <th>2</th>\n",
       "      <td>2389</td>\n",
       "    </tr>\n",
       "    <tr>\n",
       "      <th>3</th>\n",
       "      <td>5877</td>\n",
       "    </tr>\n",
       "    <tr>\n",
       "      <th>4</th>\n",
       "      <td>5188</td>\n",
       "    </tr>\n",
       "    <tr>\n",
       "      <th>...</th>\n",
       "      <td>...</td>\n",
       "    </tr>\n",
       "    <tr>\n",
       "      <th>601</th>\n",
       "      <td>589</td>\n",
       "    </tr>\n",
       "    <tr>\n",
       "      <th>602</th>\n",
       "      <td>662</td>\n",
       "    </tr>\n",
       "    <tr>\n",
       "      <th>603</th>\n",
       "      <td>5493</td>\n",
       "    </tr>\n",
       "    <tr>\n",
       "      <th>604</th>\n",
       "      <td>3012</td>\n",
       "    </tr>\n",
       "    <tr>\n",
       "      <th>605</th>\n",
       "      <td>1638</td>\n",
       "    </tr>\n",
       "  </tbody>\n",
       "</table>\n",
       "<p>606 rows × 1 columns</p>\n",
       "</div>"
      ],
      "text/plain": [
       "     user_id\n",
       "0       2531\n",
       "1       2704\n",
       "2       2389\n",
       "3       5877\n",
       "4       5188\n",
       "..       ...\n",
       "601      589\n",
       "602      662\n",
       "603     5493\n",
       "604     3012\n",
       "605     1638\n",
       "\n",
       "[606 rows x 1 columns]"
      ]
     },
     "execution_count": 5,
     "metadata": {},
     "output_type": "execute_result"
    }
   ],
   "source": [
    "test_user = pd.DataFrame(0, index=np.arange(606), columns=['user_id'])\n",
    "user_id = unique_user_id\n",
    "for i in range(0,606):\n",
    "    tar = pd.DataFrame()\n",
    "    tar = target.iloc[i]\n",
    "    tar_item = set(tar[tar == 1].index.astype(int))\n",
    "    for id in user_id:\n",
    "        item_set = set(test_te.loc[test_te['user_id']==id]['item_id'])\n",
    "        if tar_item == item_set:\n",
    "            test_user.iloc[i] = id\n",
    "            index_to_delete = np.where(user_id == id)[0]\n",
    "            user_id = np.delete(user_id, index_to_delete)\n",
    "            break\n",
    "test_user"
   ]
  },
  {
   "cell_type": "code",
   "execution_count": 6,
   "id": "68314a1a",
   "metadata": {},
   "outputs": [
    {
     "data": {
      "text/html": [
       "<div>\n",
       "<style scoped>\n",
       "    .dataframe tbody tr th:only-of-type {\n",
       "        vertical-align: middle;\n",
       "    }\n",
       "\n",
       "    .dataframe tbody tr th {\n",
       "        vertical-align: top;\n",
       "    }\n",
       "\n",
       "    .dataframe thead th {\n",
       "        text-align: right;\n",
       "    }\n",
       "</style>\n",
       "<table border=\"1\" class=\"dataframe\">\n",
       "  <thead>\n",
       "    <tr style=\"text-align: right;\">\n",
       "      <th></th>\n",
       "      <th>user_id</th>\n",
       "      <th>0</th>\n",
       "      <th>1</th>\n",
       "      <th>2</th>\n",
       "      <th>3</th>\n",
       "      <th>4</th>\n",
       "      <th>5</th>\n",
       "      <th>6</th>\n",
       "      <th>7</th>\n",
       "      <th>8</th>\n",
       "      <th>9</th>\n",
       "    </tr>\n",
       "  </thead>\n",
       "  <tbody>\n",
       "    <tr>\n",
       "      <th>0</th>\n",
       "      <td>2531</td>\n",
       "      <td>920</td>\n",
       "      <td>902</td>\n",
       "      <td>1247</td>\n",
       "      <td>914</td>\n",
       "      <td>899</td>\n",
       "      <td>898</td>\n",
       "      <td>1947</td>\n",
       "      <td>915</td>\n",
       "      <td>527</td>\n",
       "      <td>1183</td>\n",
       "    </tr>\n",
       "    <tr>\n",
       "      <th>1</th>\n",
       "      <td>2704</td>\n",
       "      <td>1250</td>\n",
       "      <td>593</td>\n",
       "      <td>1207</td>\n",
       "      <td>912</td>\n",
       "      <td>923</td>\n",
       "      <td>1208</td>\n",
       "      <td>1952</td>\n",
       "      <td>1299</td>\n",
       "      <td>608</td>\n",
       "      <td>1247</td>\n",
       "    </tr>\n",
       "    <tr>\n",
       "      <th>2</th>\n",
       "      <td>2389</td>\n",
       "      <td>34</td>\n",
       "      <td>1</td>\n",
       "      <td>1136</td>\n",
       "      <td>1197</td>\n",
       "      <td>1214</td>\n",
       "      <td>1288</td>\n",
       "      <td>858</td>\n",
       "      <td>1079</td>\n",
       "      <td>260</td>\n",
       "      <td>1617</td>\n",
       "    </tr>\n",
       "    <tr>\n",
       "      <th>3</th>\n",
       "      <td>5877</td>\n",
       "      <td>2858</td>\n",
       "      <td>2762</td>\n",
       "      <td>2997</td>\n",
       "      <td>1210</td>\n",
       "      <td>260</td>\n",
       "      <td>3793</td>\n",
       "      <td>3578</td>\n",
       "      <td>2355</td>\n",
       "      <td>1270</td>\n",
       "      <td>2959</td>\n",
       "    </tr>\n",
       "    <tr>\n",
       "      <th>4</th>\n",
       "      <td>5188</td>\n",
       "      <td>1270</td>\n",
       "      <td>1721</td>\n",
       "      <td>1097</td>\n",
       "      <td>588</td>\n",
       "      <td>919</td>\n",
       "      <td>260</td>\n",
       "      <td>527</td>\n",
       "      <td>1210</td>\n",
       "      <td>318</td>\n",
       "      <td>3105</td>\n",
       "    </tr>\n",
       "    <tr>\n",
       "      <th>...</th>\n",
       "      <td>...</td>\n",
       "      <td>...</td>\n",
       "      <td>...</td>\n",
       "      <td>...</td>\n",
       "      <td>...</td>\n",
       "      <td>...</td>\n",
       "      <td>...</td>\n",
       "      <td>...</td>\n",
       "      <td>...</td>\n",
       "      <td>...</td>\n",
       "      <td>...</td>\n",
       "    </tr>\n",
       "    <tr>\n",
       "      <th>601</th>\n",
       "      <td>589</td>\n",
       "      <td>1</td>\n",
       "      <td>318</td>\n",
       "      <td>1265</td>\n",
       "      <td>1197</td>\n",
       "      <td>34</td>\n",
       "      <td>2028</td>\n",
       "      <td>2396</td>\n",
       "      <td>2716</td>\n",
       "      <td>527</td>\n",
       "      <td>260</td>\n",
       "    </tr>\n",
       "    <tr>\n",
       "      <th>602</th>\n",
       "      <td>662</td>\n",
       "      <td>1566</td>\n",
       "      <td>364</td>\n",
       "      <td>2628</td>\n",
       "      <td>1967</td>\n",
       "      <td>2005</td>\n",
       "      <td>480</td>\n",
       "      <td>260</td>\n",
       "      <td>1210</td>\n",
       "      <td>1196</td>\n",
       "      <td>1032</td>\n",
       "    </tr>\n",
       "    <tr>\n",
       "      <th>603</th>\n",
       "      <td>5493</td>\n",
       "      <td>2028</td>\n",
       "      <td>527</td>\n",
       "      <td>1198</td>\n",
       "      <td>1266</td>\n",
       "      <td>1265</td>\n",
       "      <td>1387</td>\n",
       "      <td>1834</td>\n",
       "      <td>2396</td>\n",
       "      <td>47</td>\n",
       "      <td>1394</td>\n",
       "    </tr>\n",
       "    <tr>\n",
       "      <th>604</th>\n",
       "      <td>3012</td>\n",
       "      <td>2916</td>\n",
       "      <td>3702</td>\n",
       "      <td>924</td>\n",
       "      <td>2288</td>\n",
       "      <td>1676</td>\n",
       "      <td>2968</td>\n",
       "      <td>3471</td>\n",
       "      <td>1206</td>\n",
       "      <td>1584</td>\n",
       "      <td>1127</td>\n",
       "    </tr>\n",
       "    <tr>\n",
       "      <th>605</th>\n",
       "      <td>1638</td>\n",
       "      <td>3160</td>\n",
       "      <td>1617</td>\n",
       "      <td>2997</td>\n",
       "      <td>3578</td>\n",
       "      <td>3952</td>\n",
       "      <td>3510</td>\n",
       "      <td>3751</td>\n",
       "      <td>608</td>\n",
       "      <td>3948</td>\n",
       "      <td>3911</td>\n",
       "    </tr>\n",
       "  </tbody>\n",
       "</table>\n",
       "<p>606 rows × 11 columns</p>\n",
       "</div>"
      ],
      "text/plain": [
       "     user_id     0     1     2     3     4     5     6     7     8     9\n",
       "0       2531   920   902  1247   914   899   898  1947   915   527  1183\n",
       "1       2704  1250   593  1207   912   923  1208  1952  1299   608  1247\n",
       "2       2389    34     1  1136  1197  1214  1288   858  1079   260  1617\n",
       "3       5877  2858  2762  2997  1210   260  3793  3578  2355  1270  2959\n",
       "4       5188  1270  1721  1097   588   919   260   527  1210   318  3105\n",
       "..       ...   ...   ...   ...   ...   ...   ...   ...   ...   ...   ...\n",
       "601      589     1   318  1265  1197    34  2028  2396  2716   527   260\n",
       "602      662  1566   364  2628  1967  2005   480   260  1210  1196  1032\n",
       "603     5493  2028   527  1198  1266  1265  1387  1834  2396    47  1394\n",
       "604     3012  2916  3702   924  2288  1676  2968  3471  1206  1584  1127\n",
       "605     1638  3160  1617  2997  3578  3952  3510  3751   608  3948  3911\n",
       "\n",
       "[606 rows x 11 columns]"
      ]
     },
     "execution_count": 6,
     "metadata": {},
     "output_type": "execute_result"
    }
   ],
   "source": [
    "rec_list = pd.concat([test_user, rec_index], axis=1)\n",
    "rec_list"
   ]
  },
  {
   "cell_type": "code",
   "execution_count": 7,
   "id": "375b40ef",
   "metadata": {},
   "outputs": [],
   "source": [
    "ndcg = pd.DataFrame(columns=['dcg', 'idcg'])"
   ]
  },
  {
   "cell_type": "code",
   "execution_count": 8,
   "id": "f9129946",
   "metadata": {},
   "outputs": [],
   "source": [
    "user_ndcg = pd.concat([test_user, ndcg], axis=1)"
   ]
  },
  {
   "cell_type": "code",
   "execution_count": 9,
   "id": "01b85fb5",
   "metadata": {},
   "outputs": [
    {
     "data": {
      "text/html": [
       "<div>\n",
       "<style scoped>\n",
       "    .dataframe tbody tr th:only-of-type {\n",
       "        vertical-align: middle;\n",
       "    }\n",
       "\n",
       "    .dataframe tbody tr th {\n",
       "        vertical-align: top;\n",
       "    }\n",
       "\n",
       "    .dataframe thead th {\n",
       "        text-align: right;\n",
       "    }\n",
       "</style>\n",
       "<table border=\"1\" class=\"dataframe\">\n",
       "  <thead>\n",
       "    <tr style=\"text-align: right;\">\n",
       "      <th></th>\n",
       "      <th>user_id</th>\n",
       "      <th>dcg</th>\n",
       "      <th>idcg</th>\n",
       "    </tr>\n",
       "  </thead>\n",
       "  <tbody>\n",
       "    <tr>\n",
       "      <th>0</th>\n",
       "      <td>2531</td>\n",
       "      <td>NaN</td>\n",
       "      <td>NaN</td>\n",
       "    </tr>\n",
       "    <tr>\n",
       "      <th>1</th>\n",
       "      <td>2704</td>\n",
       "      <td>NaN</td>\n",
       "      <td>NaN</td>\n",
       "    </tr>\n",
       "    <tr>\n",
       "      <th>2</th>\n",
       "      <td>2389</td>\n",
       "      <td>NaN</td>\n",
       "      <td>NaN</td>\n",
       "    </tr>\n",
       "    <tr>\n",
       "      <th>3</th>\n",
       "      <td>5877</td>\n",
       "      <td>NaN</td>\n",
       "      <td>NaN</td>\n",
       "    </tr>\n",
       "    <tr>\n",
       "      <th>4</th>\n",
       "      <td>5188</td>\n",
       "      <td>NaN</td>\n",
       "      <td>NaN</td>\n",
       "    </tr>\n",
       "    <tr>\n",
       "      <th>...</th>\n",
       "      <td>...</td>\n",
       "      <td>...</td>\n",
       "      <td>...</td>\n",
       "    </tr>\n",
       "    <tr>\n",
       "      <th>601</th>\n",
       "      <td>589</td>\n",
       "      <td>NaN</td>\n",
       "      <td>NaN</td>\n",
       "    </tr>\n",
       "    <tr>\n",
       "      <th>602</th>\n",
       "      <td>662</td>\n",
       "      <td>NaN</td>\n",
       "      <td>NaN</td>\n",
       "    </tr>\n",
       "    <tr>\n",
       "      <th>603</th>\n",
       "      <td>5493</td>\n",
       "      <td>NaN</td>\n",
       "      <td>NaN</td>\n",
       "    </tr>\n",
       "    <tr>\n",
       "      <th>604</th>\n",
       "      <td>3012</td>\n",
       "      <td>NaN</td>\n",
       "      <td>NaN</td>\n",
       "    </tr>\n",
       "    <tr>\n",
       "      <th>605</th>\n",
       "      <td>1638</td>\n",
       "      <td>NaN</td>\n",
       "      <td>NaN</td>\n",
       "    </tr>\n",
       "  </tbody>\n",
       "</table>\n",
       "<p>606 rows × 3 columns</p>\n",
       "</div>"
      ],
      "text/plain": [
       "     user_id  dcg idcg\n",
       "0       2531  NaN  NaN\n",
       "1       2704  NaN  NaN\n",
       "2       2389  NaN  NaN\n",
       "3       5877  NaN  NaN\n",
       "4       5188  NaN  NaN\n",
       "..       ...  ...  ...\n",
       "601      589  NaN  NaN\n",
       "602      662  NaN  NaN\n",
       "603     5493  NaN  NaN\n",
       "604     3012  NaN  NaN\n",
       "605     1638  NaN  NaN\n",
       "\n",
       "[606 rows x 3 columns]"
      ]
     },
     "execution_count": 9,
     "metadata": {},
     "output_type": "execute_result"
    }
   ],
   "source": [
    "user_ndcg"
   ]
  },
  {
   "cell_type": "code",
   "execution_count": 10,
   "id": "776df184",
   "metadata": {},
   "outputs": [],
   "source": [
    "rank_discount = 1.0 / np.log2(np.arange(2, 10 + 2))"
   ]
  },
  {
   "cell_type": "code",
   "execution_count": 11,
   "id": "6049a7e1",
   "metadata": {},
   "outputs": [],
   "source": [
    "NDCG = 0\n",
    "for i in range(606):\n",
    "    dcg = 0\n",
    "    idcg = 0\n",
    "    for j in range(10):\n",
    "        dcg += (2 ** target.iloc[i,rec_index.iloc[i,j]] - 1) / np.log2(j + 2)\n",
    "    user_ndcg.iloc[i,1] = dcg\n",
    "    idcg = (rank_discount[: min(int(sum(target.iloc[i])), 10)]).sum()\n",
    "    user_ndcg.iloc[i,2] = idcg\n",
    "    NDCG += dcg/idcg\n",
    "NDCG = NDCG/606"
   ]
  },
  {
   "cell_type": "code",
   "execution_count": 12,
   "id": "63adb6db",
   "metadata": {},
   "outputs": [
    {
     "data": {
      "text/html": [
       "<div>\n",
       "<style scoped>\n",
       "    .dataframe tbody tr th:only-of-type {\n",
       "        vertical-align: middle;\n",
       "    }\n",
       "\n",
       "    .dataframe tbody tr th {\n",
       "        vertical-align: top;\n",
       "    }\n",
       "\n",
       "    .dataframe thead th {\n",
       "        text-align: right;\n",
       "    }\n",
       "</style>\n",
       "<table border=\"1\" class=\"dataframe\">\n",
       "  <thead>\n",
       "    <tr style=\"text-align: right;\">\n",
       "      <th></th>\n",
       "      <th>user_id</th>\n",
       "      <th>dcg</th>\n",
       "      <th>idcg</th>\n",
       "    </tr>\n",
       "  </thead>\n",
       "  <tbody>\n",
       "    <tr>\n",
       "      <th>0</th>\n",
       "      <td>2531</td>\n",
       "      <td>0.817529</td>\n",
       "      <td>2.561606</td>\n",
       "    </tr>\n",
       "    <tr>\n",
       "      <th>1</th>\n",
       "      <td>2704</td>\n",
       "      <td>2.464263</td>\n",
       "      <td>3.953465</td>\n",
       "    </tr>\n",
       "    <tr>\n",
       "      <th>2</th>\n",
       "      <td>2389</td>\n",
       "      <td>0.634363</td>\n",
       "      <td>4.543559</td>\n",
       "    </tr>\n",
       "    <tr>\n",
       "      <th>3</th>\n",
       "      <td>5877</td>\n",
       "      <td>0.63093</td>\n",
       "      <td>2.13093</td>\n",
       "    </tr>\n",
       "    <tr>\n",
       "      <th>4</th>\n",
       "      <td>5188</td>\n",
       "      <td>1.5</td>\n",
       "      <td>4.543559</td>\n",
       "    </tr>\n",
       "    <tr>\n",
       "      <th>...</th>\n",
       "      <td>...</td>\n",
       "      <td>...</td>\n",
       "      <td>...</td>\n",
       "    </tr>\n",
       "    <tr>\n",
       "      <th>601</th>\n",
       "      <td>589</td>\n",
       "      <td>0.5</td>\n",
       "      <td>2.561606</td>\n",
       "    </tr>\n",
       "    <tr>\n",
       "      <th>602</th>\n",
       "      <td>662</td>\n",
       "      <td>1.076393</td>\n",
       "      <td>4.543559</td>\n",
       "    </tr>\n",
       "    <tr>\n",
       "      <th>603</th>\n",
       "      <td>5493</td>\n",
       "      <td>3.886322</td>\n",
       "      <td>4.543559</td>\n",
       "    </tr>\n",
       "    <tr>\n",
       "      <th>604</th>\n",
       "      <td>3012</td>\n",
       "      <td>1.37399</td>\n",
       "      <td>4.543559</td>\n",
       "    </tr>\n",
       "    <tr>\n",
       "      <th>605</th>\n",
       "      <td>1638</td>\n",
       "      <td>0.0</td>\n",
       "      <td>3.304666</td>\n",
       "    </tr>\n",
       "  </tbody>\n",
       "</table>\n",
       "<p>606 rows × 3 columns</p>\n",
       "</div>"
      ],
      "text/plain": [
       "     user_id       dcg      idcg\n",
       "0       2531  0.817529  2.561606\n",
       "1       2704  2.464263  3.953465\n",
       "2       2389  0.634363  4.543559\n",
       "3       5877   0.63093   2.13093\n",
       "4       5188       1.5  4.543559\n",
       "..       ...       ...       ...\n",
       "601      589       0.5  2.561606\n",
       "602      662  1.076393  4.543559\n",
       "603     5493  3.886322  4.543559\n",
       "604     3012   1.37399  4.543559\n",
       "605     1638       0.0  3.304666\n",
       "\n",
       "[606 rows x 3 columns]"
      ]
     },
     "execution_count": 12,
     "metadata": {},
     "output_type": "execute_result"
    }
   ],
   "source": [
    "user_ndcg"
   ]
  },
  {
   "cell_type": "code",
   "execution_count": 13,
   "id": "dfc71a98",
   "metadata": {},
   "outputs": [
    {
     "data": {
      "text/plain": [
       "0.3116091181550189"
      ]
     },
     "execution_count": 13,
     "metadata": {},
     "output_type": "execute_result"
    }
   ],
   "source": [
    "NDCG"
   ]
  },
  {
   "cell_type": "markdown",
   "id": "ee4a3032",
   "metadata": {},
   "source": [
    "## 计算VAE的公平性指标"
   ]
  },
  {
   "cell_type": "markdown",
   "id": "d2958396",
   "metadata": {},
   "source": [
    "参数设置 Movielens 600 LastFM 750"
   ]
  },
  {
   "cell_type": "code",
   "execution_count": 854,
   "id": "c870cb75",
   "metadata": {},
   "outputs": [],
   "source": [
    "n_considered = 600"
   ]
  },
  {
   "cell_type": "code",
   "execution_count": 505,
   "id": "b9104b30",
   "metadata": {},
   "outputs": [],
   "source": [
    "n_considered = 750"
   ]
  },
  {
   "cell_type": "markdown",
   "id": "86e8cdb5",
   "metadata": {},
   "source": [
    "路径设置"
   ]
  },
  {
   "cell_type": "code",
   "execution_count": 1233,
   "id": "872bfa50",
   "metadata": {},
   "outputs": [],
   "source": [
    "path = \"ML_GLM/7/0_1/\""
   ]
  },
  {
   "cell_type": "markdown",
   "id": "f8e29af1",
   "metadata": {},
   "source": [
    "## chi100 gender"
   ]
  },
  {
   "cell_type": "code",
   "execution_count": 1234,
   "id": "e3880a7c",
   "metadata": {},
   "outputs": [],
   "source": [
    "s1 = pd.read_csv(path+\"s1_chi_gender.csv\")\n",
    "s0 = pd.read_csv(path+\"s0_chi_gender.csv\")\n",
    "s1 = s1.drop(columns=\"Unnamed: 0\")\n",
    "s0 = s0.drop(columns=\"Unnamed: 0\")\n",
    "df1 = s1.iloc[:,0].to_numpy()\n",
    "df0 = s0.iloc[:,0].to_numpy()\n",
    "df = [df0,df1]"
   ]
  },
  {
   "cell_type": "code",
   "execution_count": 1235,
   "id": "909a1bc1",
   "metadata": {},
   "outputs": [
    {
     "data": {
      "text/plain": [
       "[array([  0., 239.,  10., ...,   0.,   0.,  23.]),\n",
       " array([  0., 101.,   2., ...,   0.,   0.,   9.])]"
      ]
     },
     "execution_count": 1235,
     "metadata": {},
     "output_type": "execute_result"
    }
   ],
   "source": [
    "df"
   ]
  },
  {
   "cell_type": "code",
   "execution_count": 1236,
   "id": "1865ef85",
   "metadata": {},
   "outputs": [],
   "source": [
    "ct = np.concatenate((df[0].reshape(-1, 1), df[1].reshape(-1, 1)), axis=1)"
   ]
  },
  {
   "cell_type": "code",
   "execution_count": 1237,
   "id": "47ee8e0a",
   "metadata": {},
   "outputs": [],
   "source": [
    "n_items = ct.shape[0]\n",
    "adjusted_exps = np.zeros(ct.shape)"
   ]
  },
  {
   "cell_type": "code",
   "execution_count": 1238,
   "id": "ab0c5c9d",
   "metadata": {},
   "outputs": [],
   "source": [
    "scores_0 = pd.read_csv(path+\"scores0_gender.csv\")\n",
    "scores_1 = pd.read_csv(path+\"scores1_gender.csv\")"
   ]
  },
  {
   "cell_type": "code",
   "execution_count": 1239,
   "id": "ba7c1c91",
   "metadata": {},
   "outputs": [],
   "source": [
    "scores_0 = scores_0.drop(columns=\"Unnamed: 0\")\n",
    "scores_1 = scores_1.drop(columns=\"Unnamed: 0\")"
   ]
  },
  {
   "cell_type": "code",
   "execution_count": 1240,
   "id": "dc9bef86",
   "metadata": {},
   "outputs": [],
   "source": [
    "scores0 = scores_0.to_numpy()\n",
    "scores1 = scores_1.to_numpy()"
   ]
  },
  {
   "cell_type": "code",
   "execution_count": 1241,
   "id": "4d3be723",
   "metadata": {},
   "outputs": [],
   "source": [
    "n0 = scores0.shape[0]\n",
    "n1 = scores1.shape[0]"
   ]
  },
  {
   "cell_type": "code",
   "execution_count": 1242,
   "id": "fb556aa2",
   "metadata": {},
   "outputs": [],
   "source": [
    "for i in range(n_items):\n",
    "    n_obs = ct[i].sum()\n",
    "\n",
    "    # User who have interacted with an item cannot be recommended the same item\n",
    "    # I.e., we subtract the number of times we have flagged the item with\n",
    "    # a score lower than 0 for each user group\n",
    "    n_available0 = n0 - np.count_nonzero(scores0[:, i] < 0)\n",
    "    n_available1 = n1 - np.count_nonzero(scores1[:, i] < 0)\n",
    "    n_available = n_available0 + n_available1\n",
    "\n",
    "    adjusted_exps[i, 0] = (n_available0 / n_available) * n_obs\n",
    "    adjusted_exps[i, 1] = (n_available1 / n_available) * n_obs"
   ]
  },
  {
   "cell_type": "code",
   "execution_count": 1243,
   "id": "32d3cdb7",
   "metadata": {},
   "outputs": [],
   "source": [
    "index_partition = np.argpartition(-adjusted_exps.sum(1), n_considered)\n",
    "adjusted_exps = adjusted_exps[index_partition[:n_considered]]\n",
    "ct = ct[index_partition[:n_considered]]\n",
    "chi2_ad = (ct - adjusted_exps) ** 2 / adjusted_exps"
   ]
  },
  {
   "cell_type": "code",
   "execution_count": 1244,
   "id": "af024221",
   "metadata": {},
   "outputs": [
    {
     "data": {
      "text/plain": [
       "3278.0419447970517"
      ]
     },
     "execution_count": 1244,
     "metadata": {},
     "output_type": "execute_result"
    }
   ],
   "source": [
    "chi2_ad.sum()"
   ]
  },
  {
   "cell_type": "markdown",
   "id": "d917634c",
   "metadata": {},
   "source": [
    "## kendall100 gender"
   ]
  },
  {
   "cell_type": "code",
   "execution_count": 1245,
   "id": "8d19c667",
   "metadata": {},
   "outputs": [],
   "source": [
    "s1 = pd.read_csv(path+\"s1_ken_gender.csv\")\n",
    "s0 = pd.read_csv(path+\"s0_ken_gender.csv\")\n",
    "s1 = s1.drop(columns=\"Unnamed: 0\")\n",
    "s0 = s0.drop(columns=\"Unnamed: 0\")\n",
    "df1 = s1.iloc[:,0].to_numpy()\n",
    "df0 = s0.iloc[:,0].to_numpy()\n",
    "df = [df0,df1]"
   ]
  },
  {
   "cell_type": "code",
   "execution_count": 1246,
   "id": "48348f68",
   "metadata": {},
   "outputs": [
    {
     "data": {
      "text/plain": [
       "[array([ 0.        , 54.41903249,  1.90409866, ...,  0.        ,\n",
       "         0.        ,  4.57954908]),\n",
       " array([ 0.        , 25.75628138,  0.37861113, ...,  0.        ,\n",
       "         0.        ,  2.06008941])]"
      ]
     },
     "execution_count": 1246,
     "metadata": {},
     "output_type": "execute_result"
    }
   ],
   "source": [
    "df"
   ]
  },
  {
   "cell_type": "code",
   "execution_count": 1247,
   "id": "35221dc8",
   "metadata": {},
   "outputs": [],
   "source": [
    "def get_top_k_aggregated_ranks(all_ranks, agg_k):\n",
    "    out_ranks = []\n",
    "    for s_ranks in all_ranks:\n",
    "        recommended_items = np.argpartition(-s_ranks, agg_k)[:agg_k]\n",
    "        item_order = np.argsort(-s_ranks[recommended_items])\n",
    "        out_ranks.append(recommended_items[item_order])\n",
    "    return out_ranks"
   ]
  },
  {
   "cell_type": "code",
   "execution_count": 1248,
   "id": "f8ce9c9b",
   "metadata": {},
   "outputs": [],
   "source": [
    "ranks = get_top_k_aggregated_ranks(df, 100)"
   ]
  },
  {
   "cell_type": "code",
   "execution_count": 1249,
   "id": "b3db35a1",
   "metadata": {},
   "outputs": [],
   "source": [
    "def extended_tau(list_a, list_b):\n",
    "    \"\"\"Calculate the extended Kendall tau from two lists.\"\"\"\n",
    "    ranks = join_ranks(create_rank(list_a), create_rank(list_b)).fillna(len(list_a))\n",
    "    dummy_df = pd.DataFrame(\n",
    "        [{\"rank_a\": len(list_a), \"rank_b\": len(list_b)} for i in range(len(list_a) * 2 - len(ranks))]\n",
    "    )\n",
    "    total_df = ranks.append(dummy_df)\n",
    "    return scale_tau(len(list_a), kendalltau(total_df[\"rank_a\"], total_df[\"rank_b\"])[0])\n",
    "\n",
    "\n",
    "def scale_tau(length, value):\n",
    "    \"\"\"Scale an extended tau correlation such that it falls in [-1, +1].\"\"\"\n",
    "    n_0 = 2 * length * (2 * length - 1)\n",
    "    n_a = length * (length - 1)\n",
    "    n_d = n_0 - n_a\n",
    "    min_tau = (2.0 * n_a - n_0) / (n_d)\n",
    "    return 2 * (value - min_tau) / (1 - min_tau) - 1\n",
    "\n",
    "def create_rank(a):\n",
    "    \"\"\"Convert an ordered list to a DataFrame with ranks.\"\"\"\n",
    "    return pd.DataFrame(zip(a, range(len(a))), columns=[\"key\", \"rank\"]).set_index(\"key\")\n",
    "\n",
    "\n",
    "def join_ranks(rank_a, rank_b):\n",
    "    \"\"\"Join two rank DataFrames.\"\"\"\n",
    "    return rank_a.join(rank_b, lsuffix=\"_a\", rsuffix=\"_b\", how=\"outer\")"
   ]
  },
  {
   "cell_type": "code",
   "execution_count": 1250,
   "id": "2175dd73",
   "metadata": {},
   "outputs": [
    {
     "name": "stderr",
     "output_type": "stream",
     "text": [
      "C:\\Users\\shaoyang\\AppData\\Local\\Temp\\ipykernel_17752\\3504980276.py:7: FutureWarning: The frame.append method is deprecated and will be removed from pandas in a future version. Use pandas.concat instead.\n",
      "  total_df = ranks.append(dummy_df)\n"
     ]
    },
    {
     "data": {
      "text/plain": [
       "0.5395591182364727"
      ]
     },
     "execution_count": 1250,
     "metadata": {},
     "output_type": "execute_result"
    }
   ],
   "source": [
    "extended_tau(ranks[0], ranks[1])"
   ]
  },
  {
   "cell_type": "markdown",
   "id": "7e1263c0",
   "metadata": {},
   "source": [
    "## chi100 age"
   ]
  },
  {
   "cell_type": "code",
   "execution_count": 1251,
   "id": "7d85445f",
   "metadata": {},
   "outputs": [],
   "source": [
    "s1 = pd.read_csv(path+\"s1_chi_age.csv\")\n",
    "s0 = pd.read_csv(path+\"s0_chi_age.csv\")\n",
    "s1 = s1.drop(columns=\"Unnamed: 0\")\n",
    "s0 = s0.drop(columns=\"Unnamed: 0\")\n",
    "df1 = s1.iloc[:,0].to_numpy()\n",
    "df0 = s0.iloc[:,0].to_numpy()\n",
    "df = [df0,df1]"
   ]
  },
  {
   "cell_type": "code",
   "execution_count": 1252,
   "id": "33fa786c",
   "metadata": {},
   "outputs": [
    {
     "data": {
      "text/plain": [
       "[array([  0., 279.,  14., ...,   0.,   0.,  21.]),\n",
       " array([ 0., 75.,  3., ...,  0.,  0., 10.])]"
      ]
     },
     "execution_count": 1252,
     "metadata": {},
     "output_type": "execute_result"
    }
   ],
   "source": [
    "df"
   ]
  },
  {
   "cell_type": "code",
   "execution_count": 1253,
   "id": "a2660c76",
   "metadata": {},
   "outputs": [],
   "source": [
    "ct = np.concatenate((df[0].reshape(-1, 1), df[1].reshape(-1, 1)), axis=1)\n",
    "n_items = ct.shape[0]\n",
    "adjusted_exps = np.zeros(ct.shape)\n",
    "scores_0 = pd.read_csv(path+\"scores0_age.csv\")\n",
    "scores_1 = pd.read_csv(path+\"scores1_age.csv\")\n",
    "scores_0 = scores_0.drop(columns=\"Unnamed: 0\")\n",
    "scores_1 = scores_1.drop(columns=\"Unnamed: 0\")\n",
    "scores0 = scores_0.to_numpy()\n",
    "scores1 = scores_1.to_numpy()\n",
    "n0 = scores0.shape[0]\n",
    "n1 = scores1.shape[0]"
   ]
  },
  {
   "cell_type": "code",
   "execution_count": 1254,
   "id": "ff83827b",
   "metadata": {},
   "outputs": [],
   "source": [
    "for i in range(n_items):\n",
    "    n_obs = ct[i].sum()\n",
    "\n",
    "    # User who have interacted with an item cannot be recommended the same item\n",
    "    # I.e., we subtract the number of times we have flagged the item with\n",
    "    # a score lower than 0 for each user group\n",
    "    n_available0 = n0 - np.count_nonzero(scores0[:, i] < 0)\n",
    "    n_available1 = n1 - np.count_nonzero(scores1[:, i] < 0)\n",
    "    n_available = n_available0 + n_available1\n",
    "\n",
    "    adjusted_exps[i, 0] = (n_available0 / n_available) * n_obs\n",
    "    adjusted_exps[i, 1] = (n_available1 / n_available) * n_obs"
   ]
  },
  {
   "cell_type": "code",
   "execution_count": 1255,
   "id": "4f381eee",
   "metadata": {},
   "outputs": [
    {
     "data": {
      "text/plain": [
       "2282.9265240109494"
      ]
     },
     "execution_count": 1255,
     "metadata": {},
     "output_type": "execute_result"
    }
   ],
   "source": [
    "index_partition = np.argpartition(-adjusted_exps.sum(1), n_considered)\n",
    "adjusted_exps = adjusted_exps[index_partition[:n_considered]]\n",
    "ct = ct[index_partition[:n_considered]]\n",
    "chi2_ad = (ct - adjusted_exps) ** 2 / adjusted_exps\n",
    "chi2_ad.sum()"
   ]
  },
  {
   "cell_type": "markdown",
   "id": "fbb277e3",
   "metadata": {},
   "source": [
    "## ken100 age"
   ]
  },
  {
   "cell_type": "code",
   "execution_count": 1256,
   "id": "eb11923e",
   "metadata": {},
   "outputs": [],
   "source": [
    "s1 = pd.read_csv(path+\"s1_ken_age.csv\")\n",
    "s0 = pd.read_csv(path+\"s0_ken_age.csv\")\n",
    "s1 = s1.drop(columns=\"Unnamed: 0\")\n",
    "s0 = s0.drop(columns=\"Unnamed: 0\")\n",
    "df1 = s1.iloc[:,0].to_numpy()\n",
    "df0 = s0.iloc[:,0].to_numpy()\n",
    "df = [df0,df1]"
   ]
  },
  {
   "cell_type": "code",
   "execution_count": 1257,
   "id": "9fb60bcc",
   "metadata": {},
   "outputs": [
    {
     "data": {
      "text/plain": [
       "[array([ 0.        , 67.83995825,  2.43192052, ...,  0.        ,\n",
       "         0.        ,  3.69848169]),\n",
       " array([ 0.        , 15.87079142,  0.71815271, ...,  0.        ,\n",
       "         0.        ,  2.34802342])]"
      ]
     },
     "execution_count": 1257,
     "metadata": {},
     "output_type": "execute_result"
    }
   ],
   "source": [
    "df"
   ]
  },
  {
   "cell_type": "code",
   "execution_count": 1258,
   "id": "55668a78",
   "metadata": {},
   "outputs": [],
   "source": [
    "def get_top_k_aggregated_ranks(all_ranks, agg_k):\n",
    "    out_ranks = []\n",
    "    for s_ranks in all_ranks:\n",
    "        recommended_items = np.argpartition(-s_ranks, agg_k)[:agg_k]\n",
    "        item_order = np.argsort(-s_ranks[recommended_items])\n",
    "        out_ranks.append(recommended_items[item_order])\n",
    "    return out_ranks"
   ]
  },
  {
   "cell_type": "code",
   "execution_count": 1259,
   "id": "265650b8",
   "metadata": {},
   "outputs": [],
   "source": [
    "ranks = get_top_k_aggregated_ranks(df, 100)"
   ]
  },
  {
   "cell_type": "code",
   "execution_count": 1260,
   "id": "19e33def",
   "metadata": {},
   "outputs": [],
   "source": [
    "def extended_tau(list_a, list_b):\n",
    "    \"\"\"Calculate the extended Kendall tau from two lists.\"\"\"\n",
    "    ranks = join_ranks(create_rank(list_a), create_rank(list_b)).fillna(len(list_a))\n",
    "    dummy_df = pd.DataFrame(\n",
    "        [{\"rank_a\": len(list_a), \"rank_b\": len(list_b)} for i in range(len(list_a) * 2 - len(ranks))]\n",
    "    )\n",
    "    total_df = ranks.append(dummy_df)\n",
    "    return scale_tau(len(list_a), kendalltau(total_df[\"rank_a\"], total_df[\"rank_b\"])[0])\n",
    "\n",
    "\n",
    "def scale_tau(length, value):\n",
    "    \"\"\"Scale an extended tau correlation such that it falls in [-1, +1].\"\"\"\n",
    "    n_0 = 2 * length * (2 * length - 1)\n",
    "    n_a = length * (length - 1)\n",
    "    n_d = n_0 - n_a\n",
    "    min_tau = (2.0 * n_a - n_0) / (n_d)\n",
    "    return 2 * (value - min_tau) / (1 - min_tau) - 1\n",
    "\n",
    "def create_rank(a):\n",
    "    \"\"\"Convert an ordered list to a DataFrame with ranks.\"\"\"\n",
    "    return pd.DataFrame(zip(a, range(len(a))), columns=[\"key\", \"rank\"]).set_index(\"key\")\n",
    "\n",
    "\n",
    "def join_ranks(rank_a, rank_b):\n",
    "    \"\"\"Join two rank DataFrames.\"\"\"\n",
    "    return rank_a.join(rank_b, lsuffix=\"_a\", rsuffix=\"_b\", how=\"outer\")"
   ]
  },
  {
   "cell_type": "code",
   "execution_count": 1261,
   "id": "19c6c687",
   "metadata": {},
   "outputs": [
    {
     "name": "stderr",
     "output_type": "stream",
     "text": [
      "C:\\Users\\shaoyang\\AppData\\Local\\Temp\\ipykernel_17752\\3504980276.py:7: FutureWarning: The frame.append method is deprecated and will be removed from pandas in a future version. Use pandas.concat instead.\n",
      "  total_df = ranks.append(dummy_df)\n"
     ]
    },
    {
     "data": {
      "text/plain": [
       "0.5936673346693389"
      ]
     },
     "execution_count": 1261,
     "metadata": {},
     "output_type": "execute_result"
    }
   ],
   "source": [
    "extended_tau(ranks[0], ranks[1])"
   ]
  },
  {
   "cell_type": "code",
   "execution_count": null,
   "id": "53ac86e7",
   "metadata": {},
   "outputs": [],
   "source": []
  },
  {
   "cell_type": "code",
   "execution_count": null,
   "id": "d181480b",
   "metadata": {},
   "outputs": [],
   "source": []
  },
  {
   "cell_type": "code",
   "execution_count": null,
   "id": "865fc919",
   "metadata": {},
   "outputs": [],
   "source": []
  },
  {
   "cell_type": "code",
   "execution_count": null,
   "id": "fa6bdda7",
   "metadata": {},
   "outputs": [],
   "source": []
  }
 ],
 "metadata": {
  "kernelspec": {
   "display_name": "Python (py3.10)",
   "language": "python",
   "name": "myenv"
  },
  "language_info": {
   "codemirror_mode": {
    "name": "ipython",
    "version": 3
   },
   "file_extension": ".py",
   "mimetype": "text/x-python",
   "name": "python",
   "nbconvert_exporter": "python",
   "pygments_lexer": "ipython3",
   "version": "3.11.4"
  }
 },
 "nbformat": 4,
 "nbformat_minor": 5
}
